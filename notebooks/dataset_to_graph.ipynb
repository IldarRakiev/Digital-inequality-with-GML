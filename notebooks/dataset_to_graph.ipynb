{
  "cells": [
    {
      "cell_type": "markdown",
      "metadata": {},
      "source": [
        "## Digital Inequality Graph Construction\n",
        "\n",
        "This notebook summarizes the steps we took to construct a graph representing digital inequality across countries, suitable for Graph Neural Network (GNN) training.\n",
        "\n",
        "---\n",
        "\n",
        "### 1. Data Preprocessing\n",
        "\n",
        "- Collected multiple indicators related to digital technology usage and access for countries from 2014 to 2024.\n",
        "- Pivoted the dataset so that each row represents a country-year combination and columns correspond to indicators.\n",
        "- Encoded categorical features (`Indicator`, `Economy`, `Indicator_group`) into numerical representations.\n",
        "- Handled missing values:\n",
        "  - NaNs were replaced with min value as a signal of low digital development (so that NaN turns into \"low development\").\n",
        "  - This ensures that the GNN receives this information as part of the features.\n"
      ]
    },
    {
      "cell_type": "code",
      "execution_count": 18,
      "metadata": {},
      "outputs": [
        {
          "name": "stdout",
          "output_type": "stream",
          "text": [
            "Requirement already satisfied: torch_geometric in c:\\users\\aldir\\appdata\\local\\programs\\python\\python312\\lib\\site-packages (2.6.1)\n",
            "Requirement already satisfied: aiohttp in c:\\users\\aldir\\appdata\\local\\programs\\python\\python312\\lib\\site-packages (from torch_geometric) (3.9.5)\n",
            "Requirement already satisfied: fsspec in c:\\users\\aldir\\appdata\\local\\programs\\python\\python312\\lib\\site-packages (from torch_geometric) (2025.3.0)\n",
            "Requirement already satisfied: jinja2 in c:\\users\\aldir\\appdata\\local\\programs\\python\\python312\\lib\\site-packages (from torch_geometric) (3.1.3)\n",
            "Requirement already satisfied: numpy in c:\\users\\aldir\\appdata\\local\\programs\\python\\python312\\lib\\site-packages (from torch_geometric) (1.26.4)\n",
            "Requirement already satisfied: psutil>=5.8.0 in c:\\users\\aldir\\appdata\\local\\programs\\python\\python312\\lib\\site-packages (from torch_geometric) (5.9.8)\n",
            "Requirement already satisfied: pyparsing in c:\\users\\aldir\\appdata\\local\\programs\\python\\python312\\lib\\site-packages (from torch_geometric) (3.1.2)\n",
            "Requirement already satisfied: requests in c:\\users\\aldir\\appdata\\local\\programs\\python\\python312\\lib\\site-packages (from torch_geometric) (2.31.0)\n",
            "Requirement already satisfied: tqdm in c:\\users\\aldir\\appdata\\local\\programs\\python\\python312\\lib\\site-packages (from torch_geometric) (4.67.1)\n",
            "Requirement already satisfied: aiosignal>=1.1.2 in c:\\users\\aldir\\appdata\\local\\programs\\python\\python312\\lib\\site-packages (from aiohttp->torch_geometric) (1.3.1)\n",
            "Requirement already satisfied: attrs>=17.3.0 in c:\\users\\aldir\\appdata\\local\\programs\\python\\python312\\lib\\site-packages (from aiohttp->torch_geometric) (23.2.0)\n",
            "Requirement already satisfied: frozenlist>=1.1.1 in c:\\users\\aldir\\appdata\\local\\programs\\python\\python312\\lib\\site-packages (from aiohttp->torch_geometric) (1.4.1)\n",
            "Requirement already satisfied: multidict<7.0,>=4.5 in c:\\users\\aldir\\appdata\\local\\programs\\python\\python312\\lib\\site-packages (from aiohttp->torch_geometric) (6.0.5)\n",
            "Requirement already satisfied: yarl<2.0,>=1.0 in c:\\users\\aldir\\appdata\\local\\programs\\python\\python312\\lib\\site-packages (from aiohttp->torch_geometric) (1.9.4)\n",
            "Requirement already satisfied: MarkupSafe>=2.0 in c:\\users\\aldir\\appdata\\local\\programs\\python\\python312\\lib\\site-packages (from jinja2->torch_geometric) (2.1.5)\n",
            "Requirement already satisfied: charset-normalizer<4,>=2 in c:\\users\\aldir\\appdata\\local\\programs\\python\\python312\\lib\\site-packages (from requests->torch_geometric) (3.3.2)\n",
            "Requirement already satisfied: idna<4,>=2.5 in c:\\users\\aldir\\appdata\\local\\programs\\python\\python312\\lib\\site-packages (from requests->torch_geometric) (3.6)\n",
            "Requirement already satisfied: urllib3<3,>=1.21.1 in c:\\users\\aldir\\appdata\\local\\programs\\python\\python312\\lib\\site-packages (from requests->torch_geometric) (2.2.1)\n",
            "Requirement already satisfied: certifi>=2017.4.17 in c:\\users\\aldir\\appdata\\local\\programs\\python\\python312\\lib\\site-packages (from requests->torch_geometric) (2024.2.2)\n",
            "Requirement already satisfied: colorama in c:\\users\\aldir\\appdata\\local\\programs\\python\\python312\\lib\\site-packages (from tqdm->torch_geometric) (0.4.6)\n",
            "Note: you may need to restart the kernel to use updated packages.\n"
          ]
        },
        {
          "name": "stderr",
          "output_type": "stream",
          "text": [
            "\n",
            "[notice] A new release of pip is available: 25.0.1 -> 25.2\n",
            "[notice] To update, run: python.exe -m pip install --upgrade pip\n"
          ]
        }
      ],
      "source": [
        "pip install torch_geometric"
      ]
    },
    {
      "cell_type": "code",
      "execution_count": 17,
      "metadata": {
        "id": "IoFqFsXQurUc"
      },
      "outputs": [],
      "source": [
        "#import libraries\n",
        "import pandas as pd\n",
        "import numpy as np\n",
        "from sklearn.preprocessing import StandardScaler\n",
        "from sklearn.neighbors import NearestNeighbors\n",
        "import torch\n",
        "from torch_geometric.data import Data"
      ]
    },
    {
      "cell_type": "code",
      "execution_count": 4,
      "metadata": {
        "colab": {
          "base_uri": "https://localhost:8080/"
        },
        "id": "ie3B97BHhYiw",
        "outputId": "c58f338b-a80a-4ea7-b886-acb1156b0c26"
      },
      "outputs": [
        {
          "name": "stdout",
          "output_type": "stream",
          "text": [
            "Indicator  Economy  Year  By broadband  By fixed (wired) broadband  \\\n",
            "0          Albania  2019       82.1956                         NaN   \n",
            "1          Albania  2020       83.2799                         NaN   \n",
            "2          Albania  2021       88.2611                         NaN   \n",
            "3          Albania  2022       96.5041                         NaN   \n",
            "4          Albania  2023       96.7130                         NaN   \n",
            "\n",
            "Indicator  By fixed broadband and mobile broadband network  \\\n",
            "0                                                  37.4364   \n",
            "1                                                  49.4303   \n",
            "2                                                  68.3022   \n",
            "3                                                  86.3927   \n",
            "4                                                  86.8086   \n",
            "\n",
            "Indicator  By fixed broadband network only  By fixed narrowband network  \\\n",
            "0                                 9.112720                          NaN   \n",
            "1                                 7.757850                          NaN   \n",
            "2                                 0.819426                          NaN   \n",
            "3                                 0.782390                          NaN   \n",
            "4                                 0.661782                          NaN   \n",
            "\n",
            "Indicator  By mobile broadband network only  \\\n",
            "0                                  35.64650   \n",
            "1                                  26.09170   \n",
            "2                                  19.13930   \n",
            "3                                   9.32901   \n",
            "4                                   9.24264   \n",
            "\n",
            "Indicator  By mobile broadband network via a card or USB modem  \\\n",
            "0                                                        NaN     \n",
            "1                                                        NaN     \n",
            "2                                                        NaN     \n",
            "3                                                        NaN     \n",
            "4                                                        NaN     \n",
            "\n",
            "Indicator  By mobile broadband network via a handset  ...  \\\n",
            "0                                                NaN  ...   \n",
            "1                                                NaN  ...   \n",
            "2                                                NaN  ...   \n",
            "3                                                NaN  ...   \n",
            "4                                                NaN  ...   \n",
            "\n",
            "Indicator  Setting up effective security measures to protect devices and accounts  \\\n",
            "0                                                        NaN                        \n",
            "1                                                        NaN                        \n",
            "2                                                        NaN                        \n",
            "3                                                        NaN                        \n",
            "4                                                        NaN                        \n",
            "\n",
            "Indicator  Software excluding games and computer software packages  Tablet  \\\n",
            "0                                                        NaN           NaN   \n",
            "1                                                        NaN           NaN   \n",
            "2                                                        NaN           NaN   \n",
            "3                                                        NaN           NaN   \n",
            "4                                                        NaN           NaN   \n",
            "\n",
            "Indicator  Taking part in online consultations or voting to define civic or political issues  \\\n",
            "0                                                        NaN                                   \n",
            "1                                                        NaN                                   \n",
            "2                                                        NaN                                   \n",
            "3                                                        NaN                                   \n",
            "4                                                        NaN                                   \n",
            "\n",
            "Indicator  Transferring files between a computer and other devices  \\\n",
            "0                                                    19.9906         \n",
            "1                                                    25.0233         \n",
            "2                                                    31.5460         \n",
            "3                                                    35.9182         \n",
            "4                                                    37.5419         \n",
            "\n",
            "Indicator  Using basic arithmetic formula in a spreadsheet  \\\n",
            "0                                                      NaN   \n",
            "1                                                      NaN   \n",
            "2                                                      NaN   \n",
            "3                                                      NaN   \n",
            "4                                                      NaN   \n",
            "\n",
            "Indicator  Using copy and paste tools within a document  \\\n",
            "0                                               16.1205   \n",
            "1                                               19.2036   \n",
            "2                                               22.0341   \n",
            "3                                               26.7801   \n",
            "4                                               28.9158   \n",
            "\n",
            "Indicator  Using software run over the Internet for editing text documents, spreadsheets or presentations  \\\n",
            "0                                                        NaN                                                \n",
            "1                                                        NaN                                                \n",
            "2                                                        NaN                                                \n",
            "3                                                        NaN                                                \n",
            "4                                                        NaN                                                \n",
            "\n",
            "Indicator  Verifying the reliability of information found online  \\\n",
            "0                                                        NaN       \n",
            "1                                                        NaN       \n",
            "2                                                    7.90790       \n",
            "3                                                    6.28275       \n",
            "4                                                   12.82380       \n",
            "\n",
            "Indicator  Writing a computer program using a programming language  \n",
            "0                                                    1.56061        \n",
            "1                                                    3.67419        \n",
            "2                                                    5.65271        \n",
            "3                                                    6.58558        \n",
            "4                                                    6.92073        \n",
            "\n",
            "[5 rows x 63 columns]\n"
          ]
        }
      ],
      "source": [
        "# Read the file with dataset\n",
        "df = pd.read_csv(\"../cleaned_final_dataset.csv\")\n",
        "\n",
        "# Do the pivot: each country+year as a row, indicators as columns\n",
        "pivot_df = df.pivot_table(\n",
        "    index=[\"Economy\", \"Year\"],\n",
        "    columns=\"Indicator\",\n",
        "    values=\"Value\"\n",
        ").reset_index()\n",
        "\n",
        "# Check it\n",
        "print(pivot_df.head())"
      ]
    },
    {
      "cell_type": "code",
      "execution_count": 5,
      "metadata": {
        "id": "T3syEqutiHlR"
      },
      "outputs": [],
      "source": [
        "# === 3. Creating binary masks (has_data for each indicator) ===\n",
        "mask_df = pivot_df.drop(columns=[\"Economy\", \"Year\"]).notna().astype(int)\n",
        "mask_df = mask_df.add_prefix(\"mask_\")\n",
        "\n",
        "# === 4. Index of digital backwardness ===\n",
        "pivot_df[\"digital_backwards_index\"] = (\n",
        "    pivot_df.drop(columns=[\"Economy\", \"Year\"]).isna().sum(axis=1) /\n",
        "    pivot_df.drop(columns=[\"Economy\", \"Year\"]).shape[1]\n",
        ")"
      ]
    },
    {
      "cell_type": "code",
      "execution_count": 6,
      "metadata": {
        "id": "52O7ht7qiUFi"
      },
      "outputs": [],
      "source": [
        "# === 5. Imputation with a \"fine\" ===\n",
        "# We take the minimum value (or the 5th percentile) so that NaN turns into \"low development\"\n",
        "numeric_part = pivot_df.drop(columns=[\"Economy\", \"Year\", \"digital_backwards_index\"])\n",
        "min_values = numeric_part.min(skipna=True)\n",
        "\n",
        "imputed = numeric_part.apply(lambda col: col.fillna(min_values[col.name]))"
      ]
    },
    {
      "cell_type": "code",
      "execution_count": 7,
      "metadata": {
        "id": "SF3eG8iuiX5L"
      },
      "outputs": [],
      "source": [
        "# === 6. Normalization ===\n",
        "scaler = StandardScaler()\n",
        "X_imputed = scaler.fit_transform(imputed)\n",
        "\n",
        "# === 7. Collecting the final signs ===\n",
        "features = np.concatenate([\n",
        "    X_imputed,                             # normalized values of indicators\n",
        "    mask_df.values,                        # binary masks\n",
        "    pivot_df[[\"digital_backwards_index\"]].values  # index of backwardness\n",
        "], axis=1)\n",
        "\n",
        "# === 8. Crreate node_id ===\n",
        "pivot_df[\"node_id\"] = range(len(pivot_df))"
      ]
    },
    {
      "cell_type": "code",
      "execution_count": 8,
      "metadata": {
        "id": "bsvskBqgiYkg"
      },
      "outputs": [],
      "source": [
        "# === 9. Building the edges ===\n",
        "# (a) Temporary connections\n",
        "temporal_edges = []\n",
        "for country in pivot_df[\"Economy\"].unique():\n",
        "    country_data = pivot_df[pivot_df[\"Economy\"] == country].sort_values(\"Year\")\n",
        "    ids = country_data[\"node_id\"].tolist()\n",
        "    for i in range(len(ids) - 1):\n",
        "        temporal_edges.append((ids[i], ids[i+1]))\n",
        "\n",
        "# (b) Similar countries in the same year (by digital features)\n",
        "similarity_edges = []\n",
        "for year in pivot_df[\"Year\"].unique():\n",
        "    year_data = pivot_df[pivot_df[\"Year\"] == year]\n",
        "    X_year = features[year_data.index]\n",
        "    ids = year_data[\"node_id\"].values\n",
        "\n",
        "    if len(ids) > 5:  #kNN only makes sense if there are at least 6 countries\n",
        "        nbrs = NearestNeighbors(n_neighbors=5, metric=\"cosine\").fit(X_year)\n",
        "        distances, indices = nbrs.kneighbors(X_year)\n",
        "\n",
        "        for i, node_id in enumerate(ids):\n",
        "            for j in indices[i][1:]:  # exclude node itself\n",
        "                similarity_edges.append((node_id, ids[j]))"
      ]
    },
    {
      "cell_type": "code",
      "execution_count": 9,
      "metadata": {
        "colab": {
          "base_uri": "https://localhost:8080/"
        },
        "id": "j9Wi4KUQigUh",
        "outputId": "b8308d47-e3a4-418e-ede2-e39ecd363a32"
      },
      "outputs": [
        {
          "name": "stdout",
          "output_type": "stream",
          "text": [
            "Data(x=[734, 123], edge_index=[2, 3571])\n"
          ]
        }
      ],
      "source": [
        "# === 10. Assembling the graph ===\n",
        "x = torch.tensor(features, dtype=torch.float)\n",
        "edges = temporal_edges + similarity_edges\n",
        "edge_index = torch.tensor(edges, dtype=torch.long).t().contiguous()\n",
        "\n",
        "data = Data(x=x, edge_index=edge_index)\n",
        "\n",
        "print(data)"
      ]
    },
    {
      "cell_type": "markdown",
      "metadata": {},
      "source": [
        "Then let's check **the degree** stats and **network features** of the graph:"
      ]
    },
    {
      "cell_type": "code",
      "execution_count": null,
      "metadata": {},
      "outputs": [
        {
          "name": "stdout",
          "output_type": "stream",
          "text": [
            "min: 5 , median: 9.0 , mean: 9.730245231607629 , max: 23\n",
            "components: 1\n",
            "component sizes (top 10): [734]\n"
          ]
        }
      ],
      "source": [
        "# degree info\n",
        "import numpy as np\n",
        "edge_arr = edge_index.numpy()\n",
        "deg = np.bincount(edge_arr.ravel())\n",
        "print(\"min:\", deg.min(), \", median:\", np.median(deg), \", mean:\",  deg.mean(), \", max:\", deg.max())\n",
        "\n",
        "# connected components (networkx)\n",
        "import networkx as nx\n",
        "G = nx.Graph()\n",
        "edges = edge_arr.T.tolist()\n",
        "G.add_edges_from(edges)\n",
        "print(\"components:\", nx.number_connected_components(G))\n",
        "sizes = [len(c) for c in nx.connected_components(G)]\n",
        "print(\"component sizes (top 10):\", sorted(sizes, reverse=True)[:10])"
      ]
    },
    {
      "cell_type": "markdown",
      "metadata": {},
      "source": [
        "**Analysis:** good situation for GNN - there are **no isolates**, the graph is **not too sparse**, but also not excessively dense - which can also be a **problem**. We need to experiment with values of *k* to make sure that final graph structure will be **balanced** and **informative** at the same time to use it with baseline model."
      ]
    },
    {
      "cell_type": "markdown",
      "metadata": {},
      "source": [
        "### Graph Construction Analysis\n",
        "\n",
        "We experimented with different values of *k* in the **k-Nearest Neighbors (kNN)** graph construction process to analyze the structural properties of our dataset. The results are summarized below:"
      ]
    },
    {
      "cell_type": "code",
      "execution_count": 15,
      "metadata": {},
      "outputs": [
        {
          "name": "stdout",
          "output_type": "stream",
          "text": [
            "\n",
            "=== k = 5 ===\n",
            "Nodes: 734, Edges: 6606\n",
            "Degree stats: min=10, median=18.0, mean=18.00, max=42\n",
            "Connected components: 7, largest sizes: [684, 24, 6, 5, 5]\n",
            "\n",
            "=== k = 10 ===\n",
            "Nodes: 734, Edges: 13946\n",
            "Degree stats: min=20, median=36.0, mean=38.00, max=84\n",
            "Connected components: 1, largest sizes: [734]\n",
            "\n",
            "=== k = 15 ===\n",
            "Nodes: 734, Edges: 21286\n",
            "Degree stats: min=30, median=54.0, mean=58.00, max=124\n",
            "Connected components: 1, largest sizes: [734]\n"
          ]
        },
        {
          "data": {
            "image/png": "[encoded data removed]",
            "text/plain": [
              "<Figure size 1500x1200 with 3 Axes>"
            ]
          },
          "metadata": {},
          "output_type": "display_data"
        }
      ],
      "source": [
        "import networkx as nx\n",
        "from torch_geometric.utils import add_self_loops\n",
        "import matplotlib.pyplot as plt\n",
        "\n",
        "def build_graph(X, k):\n",
        "    \"\"\"\n",
        "    X: numpy array (features per node)\n",
        "    k: number of neighbors\n",
        "    return: edge_index (torch.tensor), degrees, comp_count, comp_sizes\n",
        "    \"\"\"\n",
        "    nbrs = NearestNeighbors(n_neighbors=k, metric='cosine').fit(X)\n",
        "    distances, indices = nbrs.kneighbors(X)\n",
        "\n",
        "    edges = []\n",
        "    for i in range(len(X)):\n",
        "        for j in indices[i][1:]:  # exclude self\n",
        "            edges.append((i, j))\n",
        "\n",
        "    edge_index = torch.tensor(edges, dtype=torch.long).t().contiguous()\n",
        "\n",
        "    # make bidirectional\n",
        "    edge_index = torch.cat([edge_index, edge_index.flip(0)], dim=1)\n",
        "\n",
        "    # add self-loops\n",
        "    edge_index, _ = add_self_loops(edge_index, num_nodes=X.shape[0])\n",
        "\n",
        "    # degree stats\n",
        "    edge_arr = edge_index.numpy()\n",
        "    deg = np.bincount(edge_arr.ravel(), minlength=X.shape[0])\n",
        "\n",
        "    # connected components\n",
        "    G = nx.Graph()\n",
        "    G.add_edges_from(edge_arr.T.tolist())\n",
        "    comp_count = nx.number_connected_components(G)\n",
        "    comp_sizes = sorted([len(c) for c in nx.connected_components(G)], reverse=True)\n",
        "\n",
        "    return edge_index, deg, comp_count, comp_sizes\n",
        "\n",
        "def analyze_graphs(X, ks=[5,10,15]):\n",
        "    plt.figure(figsize=(15, 4 * len(ks)))\n",
        "\n",
        "    for idx, k in enumerate(ks):\n",
        "        edge_index, deg, comp_count, comp_sizes = build_graph(X, k)\n",
        "        print(f\"\\n=== k = {k} ===\")\n",
        "        print(f\"Nodes: {X.shape[0]}, Edges: {edge_index.shape[1]}\")\n",
        "        print(f\"Degree stats: min={deg.min()}, median={np.median(deg)}, mean={deg.mean():.2f}, max={deg.max()}\")\n",
        "        print(f\"Connected components: {comp_count}, largest sizes: {comp_sizes[:5]}\")\n",
        "\n",
        "        # plot histogram\n",
        "        plt.subplot(len(ks), 1, idx+1)\n",
        "        plt.hist(deg, bins=30, alpha=0.7)\n",
        "        plt.title(f\"Degree distribution for k={k}\")\n",
        "        plt.xlabel(\"Degree\")\n",
        "        plt.ylabel(\"Count\")\n",
        "\n",
        "    plt.tight_layout()\n",
        "    plt.show()\n",
        "\n",
        "# Example call:\n",
        "analyze_graphs(features, ks=[5,10,15])\n"
      ]
    },
    {
      "cell_type": "markdown",
      "metadata": {},
      "source": [
        "### Let's check and analyze the results:\n",
        "\n",
        "#### k = 5\n",
        "- **Nodes:** 734  \n",
        "- **Edges:** 6606  \n",
        "- **Connected components:** 7 (largest = 684 nodes)  \n",
        "- **Degree distribution:** sparse and \"holey\", with many missing values.  \n",
        "- **Interpretation:** the graph is fragmented into several components. Some countries remain isolated, which prevents efficient information flow across the network.  \n",
        "\n",
        "#### k = 10\n",
        "- **Nodes:** 734  \n",
        "- **Edges:** 13946  \n",
        "- **Connected components:** 1 (all 734 nodes connected)  \n",
        "- **Degree distribution:** balanced, most nodes have degrees in the range 30–40.  \n",
        "- **Interpretation:** this configuration yields a fully connected but not overly dense graph. Information can flow across the entire network while still preserving local structures. This balance is crucial for GNNs, as it allows capturing both global connectivity and regional clusters.\n",
        "\n",
        "#### k = 15\n",
        "- **Nodes:** 734  \n",
        "- **Edges:** 21286  \n",
        "- **Connected components:** 1 (all 734 nodes connected)  \n",
        "- **Degree distribution:** uneven, with clear peaks and hubs (some countries with very high degree).  \n",
        "- **Interpretation:** the graph becomes much denser. Super-hubs dominate the network, which may distort the signal propagation and blur local patterns.\n",
        "\n",
        "---\n",
        "\n",
        "### Decision\n",
        "Based on the analysis, we select **k = 10** as the optimal configuration.  \n",
        "- It ensures that the graph is **fully connected**.  \n",
        "- The degree distribution is **balanced**, avoiding both fragmentation (as in k=5) and excessive hub dominance (as in k=15).  \n",
        "- This structure is best suited for training Graph Neural Networks to capture meaningful patterns in digital inequality data.\n"
      ]
    },
    {
      "cell_type": "markdown",
      "metadata": {},
      "source": [
        "---\n",
        "\n",
        "**Final step:** transform graph to *PyTorch Geometric data* and save to further use with GNN models. "
      ]
    },
    {
      "cell_type": "code",
      "execution_count": 23,
      "metadata": {},
      "outputs": [
        {
          "name": "stdout",
          "output_type": "stream",
          "text": [
            "Graph: 734 nodes, 13946 edges\n",
            "Connected components: 1, largest: [734]\n",
            "Data(x=[734, 123], edge_index=[2, 14680])\n"
          ]
        },
        {
          "name": "stderr",
          "output_type": "stream",
          "text": [
            "C:\\Users\\aldir\\AppData\\Local\\Temp\\ipykernel_25372\\4234033144.py:12: UserWarning: To copy construct from a tensor, it is recommended to use sourceTensor.clone().detach() or sourceTensor.clone().detach().requires_grad_(True), rather than torch.tensor(sourceTensor).\n",
            "  edge_index = torch.tensor(edge_index, dtype=torch.long)\n"
          ]
        }
      ],
      "source": [
        "from torch_geometric.utils import add_self_loops\n",
        "\n",
        "# our chosen value of k\n",
        "k = 10\n",
        "\n",
        "edge_index, deg, comp_count, comp_sizes = build_graph(features, k)\n",
        "\n",
        "print(f\"Graph: {features.shape[0]} nodes, {edge_index.shape[1]} edges\")\n",
        "print(f\"Connected components: {comp_count}, largest: {comp_sizes[:5]}\")\n",
        "\n",
        "# graph to PyTorch Geometric Data\n",
        "edge_index = torch.tensor(edge_index, dtype=torch.long)\n",
        "\n",
        "# add self-loops\n",
        "edge_index, _ = add_self_loops(edge_index, num_nodes=features.shape[0])\n",
        "\n",
        "x = torch.tensor(features, dtype=torch.float)\n",
        "\n",
        "data = Data(x=x, edge_index=edge_index)\n",
        "\n",
        "# save to further use with baseline and GNN\n",
        "torch.save(data, \"../digital_inequality_graph.pt\")\n",
        "\n",
        "print(data)\n"
      ]
    }
  ],
  "metadata": {
    "colab": {
      "provenance": []
    },
    "kernelspec": {
      "display_name": "PyTorch 3.11",
      "language": "python",
      "name": "torch_env"
    },
    "language_info": {
      "codemirror_mode": {
        "name": "ipython",
        "version": 3
      },
      "file_extension": ".py",
      "mimetype": "text/x-python",
      "name": "python",
      "nbconvert_exporter": "python",
      "pygments_lexer": "ipython3",
      "version": "3.12.4"
    }
  },
  "nbformat": 4,
  "nbformat_minor": 0
}
